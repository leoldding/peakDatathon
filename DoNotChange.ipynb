{
 "cells": [
  {
   "cell_type": "code",
   "execution_count": 1,
   "metadata": {},
   "outputs": [],
   "source": [
    "## import data files\n",
    "import pandas as pd\n",
    "customers = pd.read_csv('data/olist_customers_dataset.csv')\n",
    "orders = pd.read_csv('data/olist_orders_dataset.csv')\n",
    "order_items = pd.read_csv('data/olist_order_items_dataset.csv')\n",
    "products = pd.read_csv('data/olist_products_dataset.csv')\n",
    "product_category = pd.read_csv('data/product_category_name_translation.csv')\n",
    "order_payments = pd.read_csv('data/olist_order_payments_dataset.csv')"
   ]
  },
  {
   "cell_type": "code",
   "execution_count": 2,
   "metadata": {},
   "outputs": [],
   "source": [
    "# join data files\n",
    "customer_orders = pd.merge(customers, orders, on='customer_id',how='outer')\n",
    "customer_items = pd.merge(customer_orders, order_items, on='order_id', how='outer')\n",
    "customer_products = pd.merge(customer_items,products, on='product_id',how='outer')"
   ]
  },
  {
   "cell_type": "code",
   "execution_count": 3,
   "metadata": {},
   "outputs": [],
   "source": [
    "# generating order history (real one)\n",
    "def genOrderHistory(unique_customer_id):\n",
    "    unique_orders = customer_products[customer_products['customer_unique_id']==unique_customer_id]\n",
    "    col_names = ['customer_unique_id','customer_id','order_id','order_purchase_timestamp','order_item_id','product_id', 'product_category_name','price']\n",
    "    return unique_orders.loc[:,col_names]"
   ]
  },
  {
   "cell_type": "code",
   "execution_count": null,
   "metadata": {},
   "outputs": [],
   "source": [
    "top_10_cust = customers_orders['customer_unique_id'].value_counts()[0:10].index\n",
    "genOrderHistory(top_10_cust[2])"
   ]
  }
 ],
 "metadata": {
  "kernelspec": {
   "display_name": "Python 3.9.7 ('iml2')",
   "language": "python",
   "name": "python3"
  },
  "language_info": {
   "codemirror_mode": {
    "name": "ipython",
    "version": 3
   },
   "file_extension": ".py",
   "mimetype": "text/x-python",
   "name": "python",
   "nbconvert_exporter": "python",
   "pygments_lexer": "ipython3",
   "version": "3.9.7"
  },
  "orig_nbformat": 4,
  "vscode": {
   "interpreter": {
    "hash": "268be95e8a8fddf21643376ad99d8220c09748104118877e9629e3819f07beb1"
   }
  }
 },
 "nbformat": 4,
 "nbformat_minor": 2
}
