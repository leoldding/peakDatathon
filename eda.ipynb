{
 "cells": [
  {
   "cell_type": "markdown",
   "metadata": {},
   "source": [
    "\n",
    "# EDA Notebook\n"
   ]
  },
  {
   "cell_type": "markdown",
   "metadata": {},
   "source": [
    "## Imports:"
   ]
  },
  {
   "cell_type": "code",
   "execution_count": 2,
   "metadata": {},
   "outputs": [],
   "source": [
    "import pandas as pd\n",
    "import matplotlib.pyplot as plt\n",
    "from matplotlib import style\n",
    "\n",
    "customers = pd.read_csv('data/olist_customers_dataset.csv')\n",
    "orders = pd.read_csv('data/olist_orders_dataset.csv')\n",
    "order_items = pd.read_csv('data/olist_order_items_dataset.csv')\n",
    "products = pd.read_csv('data/olist_products_dataset.csv')\n",
    "product_category = pd.read_csv('data/product_category_name_translation.csv')\n",
    "reviews = pd.read_csv('data/olist_order_reviews_dataset.csv')"
   ]
  },
  {
   "cell_type": "markdown",
   "metadata": {},
   "source": [
    "- We have decided to eliminate `geolocation`, `product_category_names`, `seller data`, and `order_payments` from our analysis\n",
    "- Explanation for the elimination of each dataset:\n",
    "    - `geolocation`: We were unfamiliar with geolocation data and did not believe we could correctly utlize this data\n",
    "    - `product_category_names`: We believe the language of the product category is irrelavant to product recommendation\n",
    "    - `order_payments`: \n",
    "    - `seller data`: "
   ]
  },
  {
   "cell_type": "markdown",
   "metadata": {},
   "source": [
    "## Exploration"
   ]
  },
  {
   "cell_type": "markdown",
   "metadata": {},
   "source": [
    "### Finding null values for each dataset"
   ]
  },
  {
   "cell_type": "code",
   "execution_count": 4,
   "metadata": {},
   "outputs": [
    {
     "name": "stdout",
     "output_type": "stream",
     "text": [
      "customer_id  customer_unique_id  customer_zip_code_prefix  customer_city  customer_state\n",
      "False        False               False                     False          False             99441\n",
      "dtype: int64\n"
     ]
    }
   ],
   "source": [
    "# `olist_customers_dataset`\n",
    "nullCountCust = customers.isnull().value_counts()\n",
    "print(nullCountCust)"
   ]
  },
  {
   "cell_type": "code",
   "execution_count": 5,
   "metadata": {},
   "outputs": [
    {
     "data": {
      "text/plain": [
       "order_id  customer_id  order_status  order_purchase_timestamp  order_approved_at  order_delivered_carrier_date  order_delivered_customer_date  order_estimated_delivery_date\n",
       "False     False        False         False                     False              False                         False                          False                            96461\n",
       "                                                                                  True                          True                           False                             1636\n",
       "                                                                                  False                         True                           False                             1183\n",
       "                                                               True               True                          True                           False                              146\n",
       "                                                                                  False                         False                          False                               14\n",
       "                                                               False              True                          False                          False                                1\n",
       "dtype: int64"
      ]
     },
     "execution_count": 5,
     "metadata": {},
     "output_type": "execute_result"
    }
   ],
   "source": [
    "# `olist_orders_dataset.csv`\n",
    "nullCountOrders = orders.isnull().value_counts()\n",
    "nullCountOrders"
   ]
  },
  {
   "cell_type": "markdown",
   "metadata": {},
   "source": [
    "### In regards to the findings above for the orders table\n",
    "\n",
    "#### we find that null values show up in the following columns (order_approved_at, order_delivered_carrier_date, order_delivered_customer_date) for the table of orders"
   ]
  },
  {
   "cell_type": "code",
   "execution_count": 49,
   "metadata": {},
   "outputs": [
    {
     "name": "stdout",
     "output_type": "stream",
     "text": [
      "order_id  order_item_id  product_id  seller_id  shipping_limit_date  price  freight_value\n",
      "False     False          False       False      False                False  False            112650\n",
      "dtype: int64\n"
     ]
    }
   ],
   "source": [
    "nullCountItems = order_items.isnull().value_counts()\n",
    "print(nullCountItems)    "
   ]
  },
  {
   "cell_type": "markdown",
   "metadata": {},
   "source": [
    "### In regards to the findings above for the order items table - we find that there are no null values in any of the columns"
   ]
  },
  {
   "cell_type": "markdown",
   "metadata": {},
   "source": [
    "#### The following code inspects the data types for each feature"
   ]
  },
  {
   "cell_type": "code",
   "execution_count": 50,
   "metadata": {},
   "outputs": [
    {
     "name": "stdout",
     "output_type": "stream",
     "text": [
      "customer_id                 object\n",
      "customer_unique_id          object\n",
      "customer_zip_code_prefix     int64\n",
      "customer_city               object\n",
      "customer_state              object\n",
      "dtype: object\n",
      "\n",
      "order_id                         object\n",
      "customer_id                      object\n",
      "order_status                     object\n",
      "order_purchase_timestamp         object\n",
      "order_approved_at                object\n",
      "order_delivered_carrier_date     object\n",
      "order_delivered_customer_date    object\n",
      "order_estimated_delivery_date    object\n",
      "dtype: object\n",
      "\n",
      "order_id                object\n",
      "order_item_id            int64\n",
      "product_id              object\n",
      "seller_id               object\n",
      "shipping_limit_date     object\n",
      "price                  float64\n",
      "freight_value          float64\n",
      "dtype: object\n"
     ]
    }
   ],
   "source": [
    "print(customers.dtypes)\n",
    "print()\n",
    "print(orders.dtypes)\n",
    "print()\n",
    "print(order_items.dtypes)"
   ]
  },
  {
   "cell_type": "markdown",
   "metadata": {},
   "source": [
    "# Finding the Number of Orders for each customer\n",
    "- finding min max for number of orders for each person \n",
    "- mean and median number of orders per person"
   ]
  },
  {
   "cell_type": "code",
   "execution_count": 60,
   "metadata": {},
   "outputs": [
    {
     "name": "stdout",
     "output_type": "stream",
     "text": [
      "96096\n",
      "                             customer_id                customer_unique_id  \\\n",
      "0       06b8999e2fba1a1fbc88172c00ba8bc7  861eff4711a542e4b93843c6dd7febb0   \n",
      "1       18955e83d337fd6b2def6b18a428ac77  290c77bc529b7ac935b93aa66c333dc3   \n",
      "2       4e7b3e00288586ebd08712fdd0374a03  060e732b5b29e8181a18229c7b0b2b5e   \n",
      "3       b2b6027bc5c5109e529d4dc6358b12c3  259dac757896d24d7702b9acbbff3f3c   \n",
      "4       4f2d8ab171c80ec8364f7c12e35b23ad  345ecd01c38d18a9036ed96c73b8d066   \n",
      "...                                  ...                               ...   \n",
      "112645  17ddf5dd5d51696bb3d7c6291687be6f  1a29b476fee25c95fbafc67c5ac95cf8   \n",
      "112646  e7b71a9017aa05c9a7fd292d714858e8  d52a67c98be1cf6a5c84435bd38d095d   \n",
      "112647  5e28dfe12db7fb50a4b2f691faecea5e  e9f50caf99f032f0bf3c55141f019d99   \n",
      "112648  56b18e2166679b8a959d72dd06da27f9  73c2643a0a458b49f58cea58833b192e   \n",
      "112649  274fa6071e5e17fe303b9748641082c8  84732c5050c01db9b23e19ba39899398   \n",
      "\n",
      "        customer_zip_code_prefix          customer_city customer_state  \\\n",
      "0                          14409                 franca             SP   \n",
      "1                           9790  sao bernardo do campo             SP   \n",
      "2                           1151              sao paulo             SP   \n",
      "3                           8775        mogi das cruzes             SP   \n",
      "4                          13056               campinas             SP   \n",
      "...                          ...                    ...            ...   \n",
      "112645                      3937              sao paulo             SP   \n",
      "112646                      6764        taboao da serra             SP   \n",
      "112647                     60115              fortaleza             CE   \n",
      "112648                     92120                 canoas             RS   \n",
      "112649                      6703                  cotia             SP   \n",
      "\n",
      "                                order_id order_status  \\\n",
      "0       00e7ee1b050b8499577073aeb2a297a1    delivered   \n",
      "1       29150127e6685892b6eab3eec79f59c7    delivered   \n",
      "2       b2059ed67ce144a36e2aa97d2c9e9ad2    delivered   \n",
      "3       951670f92359f4fe4a63112aa7306eba    delivered   \n",
      "4       6b7d50bd145f6fc7f33cebabd7e49d0f    delivered   \n",
      "...                                  ...          ...   \n",
      "112645  6760e20addcf0121e9d58f2f1ff14298    delivered   \n",
      "112646  9ec0c8947d973db4f4e8dcf1fbfa8f1b    delivered   \n",
      "112647  fed4434add09a6f332ea398efd656a5c    delivered   \n",
      "112648  e31ec91cea1ecf97797787471f98a8c2    delivered   \n",
      "112649  28db69209a75e59f20ccbb5c36a20b90    delivered   \n",
      "\n",
      "       order_purchase_timestamp    order_approved_at  \\\n",
      "0           2017-05-16 15:05:35  2017-05-16 15:22:12   \n",
      "1           2018-01-12 20:48:24  2018-01-12 20:58:32   \n",
      "2           2018-05-19 16:07:45  2018-05-20 16:19:10   \n",
      "3           2018-03-13 16:06:38  2018-03-13 17:29:19   \n",
      "4           2018-07-29 09:51:30  2018-07-29 10:10:09   \n",
      "...                         ...                  ...   \n",
      "112645      2018-04-07 15:48:17  2018-04-07 16:08:45   \n",
      "112646      2018-04-04 08:20:22  2018-04-04 08:35:12   \n",
      "112647      2018-04-08 20:11:50  2018-04-08 20:30:03   \n",
      "112648      2017-11-03 21:08:33  2017-11-03 21:31:20   \n",
      "112649      2017-12-19 14:27:23  2017-12-19 18:50:39   \n",
      "\n",
      "       order_delivered_carrier_date order_delivered_customer_date  \\\n",
      "0               2017-05-23 10:47:57           2017-05-25 10:35:35   \n",
      "1               2018-01-15 17:14:59           2018-01-29 12:41:19   \n",
      "2               2018-06-11 14:31:00           2018-06-14 17:58:51   \n",
      "3               2018-03-27 23:22:42           2018-03-28 16:04:25   \n",
      "4               2018-07-30 15:16:00           2018-08-09 20:55:48   \n",
      "...                             ...                           ...   \n",
      "112645          2018-04-11 02:08:36           2018-04-13 20:06:37   \n",
      "112646          2018-04-05 18:42:35           2018-04-11 18:54:45   \n",
      "112647          2018-04-09 17:52:17           2018-05-09 19:03:15   \n",
      "112648          2017-11-06 18:24:41           2017-11-16 19:58:39   \n",
      "112649          2017-12-21 19:17:21           2017-12-26 18:42:36   \n",
      "\n",
      "       order_estimated_delivery_date  order_item_id  \\\n",
      "0                2017-06-05 00:00:00              1   \n",
      "1                2018-02-06 00:00:00              1   \n",
      "2                2018-06-13 00:00:00              1   \n",
      "3                2018-04-10 00:00:00              1   \n",
      "4                2018-08-15 00:00:00              1   \n",
      "...                              ...            ...   \n",
      "112645           2018-04-25 00:00:00              1   \n",
      "112646           2018-04-20 00:00:00              1   \n",
      "112647           2018-05-02 00:00:00              1   \n",
      "112648           2017-12-05 00:00:00              1   \n",
      "112649           2018-01-08 00:00:00              1   \n",
      "\n",
      "                              product_id                         seller_id  \\\n",
      "0       a9516a079e37a9c9c36b9b78b10169e8  7c67e1448b00f6e969d365cea6b010ab   \n",
      "1       4aa6014eceb682077f9dc4bffebc05b0  b8bc237ba3788b23da09c0f1f3a3288c   \n",
      "2       bd07b66896d6f1494f5b86251848ced7  7c67e1448b00f6e969d365cea6b010ab   \n",
      "3       a5647c44af977b148e0a3a4751a09e2e  7c67e1448b00f6e969d365cea6b010ab   \n",
      "4       9391a573abe00141c56e38d84d7d5b3b  4a3ca9315b744ce9f8e9374361493884   \n",
      "...                                  ...                               ...   \n",
      "112645  ccb4503d9d43d245d3b295d0544f988b  527801b552d0077ffd170872eb49683b   \n",
      "112646  9ede6b0570a75a4b9de4f383329f99ee  3fd1e727ba94cfe122d165e176ce7967   \n",
      "112647  7a5d2e1e131a860ae7d18f6fffa9d689  d9e7e7778b32987280a6f2cb9a39c57d   \n",
      "112648  f819f0c84a64f02d3a5606ca95edd272  4869f7a5dfa277a7dca6462dcf3b52b2   \n",
      "112649  017692475c1c954ff597feda05131d73  3c7c4a49ec3c6550809089c6a2ca9370   \n",
      "\n",
      "        shipping_limit_date   price  freight_value  \n",
      "0       2017-05-22 15:22:12  124.99          21.88  \n",
      "1       2018-01-18 20:58:32  289.00          46.48  \n",
      "2       2018-06-05 16:19:10  139.94          17.79  \n",
      "3       2018-03-27 16:31:16  149.94          23.36  \n",
      "4       2018-07-31 10:10:09  230.00          22.25  \n",
      "...                     ...     ...            ...  \n",
      "112645  2018-04-12 16:08:45   74.90          13.88  \n",
      "112646  2018-04-10 08:35:12  114.90          14.16  \n",
      "112647  2018-04-12 20:30:03   37.00          19.04  \n",
      "112648  2017-11-09 21:15:51  689.00          22.07  \n",
      "112649  2017-12-26 18:50:39   13.99           7.78  \n",
      "\n",
      "[112650 rows x 18 columns]\n",
      "                            customer_id                customer_unique_id  \\\n",
      "0      06b8999e2fba1a1fbc88172c00ba8bc7  861eff4711a542e4b93843c6dd7febb0   \n",
      "1      18955e83d337fd6b2def6b18a428ac77  290c77bc529b7ac935b93aa66c333dc3   \n",
      "2      4e7b3e00288586ebd08712fdd0374a03  060e732b5b29e8181a18229c7b0b2b5e   \n",
      "3      b2b6027bc5c5109e529d4dc6358b12c3  259dac757896d24d7702b9acbbff3f3c   \n",
      "4      4f2d8ab171c80ec8364f7c12e35b23ad  345ecd01c38d18a9036ed96c73b8d066   \n",
      "...                                 ...                               ...   \n",
      "99436  17ddf5dd5d51696bb3d7c6291687be6f  1a29b476fee25c95fbafc67c5ac95cf8   \n",
      "99437  e7b71a9017aa05c9a7fd292d714858e8  d52a67c98be1cf6a5c84435bd38d095d   \n",
      "99438  5e28dfe12db7fb50a4b2f691faecea5e  e9f50caf99f032f0bf3c55141f019d99   \n",
      "99439  56b18e2166679b8a959d72dd06da27f9  73c2643a0a458b49f58cea58833b192e   \n",
      "99440  274fa6071e5e17fe303b9748641082c8  84732c5050c01db9b23e19ba39899398   \n",
      "\n",
      "       customer_zip_code_prefix          customer_city customer_state  \\\n",
      "0                         14409                 franca             SP   \n",
      "1                          9790  sao bernardo do campo             SP   \n",
      "2                          1151              sao paulo             SP   \n",
      "3                          8775        mogi das cruzes             SP   \n",
      "4                         13056               campinas             SP   \n",
      "...                         ...                    ...            ...   \n",
      "99436                      3937              sao paulo             SP   \n",
      "99437                      6764        taboao da serra             SP   \n",
      "99438                     60115              fortaleza             CE   \n",
      "99439                     92120                 canoas             RS   \n",
      "99440                      6703                  cotia             SP   \n",
      "\n",
      "                               order_id order_status order_purchase_timestamp  \\\n",
      "0      00e7ee1b050b8499577073aeb2a297a1    delivered      2017-05-16 15:05:35   \n",
      "1      29150127e6685892b6eab3eec79f59c7    delivered      2018-01-12 20:48:24   \n",
      "2      b2059ed67ce144a36e2aa97d2c9e9ad2    delivered      2018-05-19 16:07:45   \n",
      "3      951670f92359f4fe4a63112aa7306eba    delivered      2018-03-13 16:06:38   \n",
      "4      6b7d50bd145f6fc7f33cebabd7e49d0f    delivered      2018-07-29 09:51:30   \n",
      "...                                 ...          ...                      ...   \n",
      "99436  6760e20addcf0121e9d58f2f1ff14298    delivered      2018-04-07 15:48:17   \n",
      "99437  9ec0c8947d973db4f4e8dcf1fbfa8f1b    delivered      2018-04-04 08:20:22   \n",
      "99438  fed4434add09a6f332ea398efd656a5c    delivered      2018-04-08 20:11:50   \n",
      "99439  e31ec91cea1ecf97797787471f98a8c2    delivered      2017-11-03 21:08:33   \n",
      "99440  28db69209a75e59f20ccbb5c36a20b90    delivered      2017-12-19 14:27:23   \n",
      "\n",
      "         order_approved_at order_delivered_carrier_date  \\\n",
      "0      2017-05-16 15:22:12          2017-05-23 10:47:57   \n",
      "1      2018-01-12 20:58:32          2018-01-15 17:14:59   \n",
      "2      2018-05-20 16:19:10          2018-06-11 14:31:00   \n",
      "3      2018-03-13 17:29:19          2018-03-27 23:22:42   \n",
      "4      2018-07-29 10:10:09          2018-07-30 15:16:00   \n",
      "...                    ...                          ...   \n",
      "99436  2018-04-07 16:08:45          2018-04-11 02:08:36   \n",
      "99437  2018-04-04 08:35:12          2018-04-05 18:42:35   \n",
      "99438  2018-04-08 20:30:03          2018-04-09 17:52:17   \n",
      "99439  2017-11-03 21:31:20          2017-11-06 18:24:41   \n",
      "99440  2017-12-19 18:50:39          2017-12-21 19:17:21   \n",
      "\n",
      "      order_delivered_customer_date order_estimated_delivery_date  \n",
      "0               2017-05-25 10:35:35           2017-06-05 00:00:00  \n",
      "1               2018-01-29 12:41:19           2018-02-06 00:00:00  \n",
      "2               2018-06-14 17:58:51           2018-06-13 00:00:00  \n",
      "3               2018-03-28 16:04:25           2018-04-10 00:00:00  \n",
      "4               2018-08-09 20:55:48           2018-08-15 00:00:00  \n",
      "...                             ...                           ...  \n",
      "99436           2018-04-13 20:06:37           2018-04-25 00:00:00  \n",
      "99437           2018-04-11 18:54:45           2018-04-20 00:00:00  \n",
      "99438           2018-05-09 19:03:15           2018-05-02 00:00:00  \n",
      "99439           2017-11-16 19:58:39           2017-12-05 00:00:00  \n",
      "99440           2017-12-26 18:42:36           2018-01-08 00:00:00  \n",
      "\n",
      "[99441 rows x 12 columns]\n"
     ]
    }
   ],
   "source": [
    "customers_orders = pd.merge(customers, orders, on='customer_id')\n",
    "customer_items = pd.merge(customers_orders, order_items, on='order_id')\n",
    "print(customer_items)\n",
    "print(customers_orders)"
   ]
  },
  {
   "cell_type": "markdown",
   "metadata": {},
   "source": [
    "\n",
    "- finding min max for number of orders for each person "
   ]
  },
  {
   "cell_type": "code",
   "execution_count": 52,
   "metadata": {},
   "outputs": [
    {
     "name": "stdout",
     "output_type": "stream",
     "text": [
      "1.0\n",
      "1.0348089410589412\n"
     ]
    }
   ],
   "source": [
    "# Median and Mode for number of orders per customer\n",
    "print(customers_orders[\"customer_unique_id\"].value_counts().median())\n",
    "print(customers_orders[\"customer_unique_id\"].value_counts().mean())"
   ]
  },
  {
   "cell_type": "code",
   "execution_count": 53,
   "metadata": {},
   "outputs": [
    {
     "name": "stdout",
     "output_type": "stream",
     "text": [
      "8d50f5eadf50201ccdcedfb9e2ac8455    17\n",
      "3e43e6105506432c953e165fb2acf44c     9\n",
      "1b6c7548a2a1f9037c1fd3ddfed95f33     7\n",
      "ca77025e7201e3b30c44b472ff346268     7\n",
      "6469f99c1f9dfae7733b25662e7f1782     7\n",
      "                                    ..\n",
      "081f07439678af2da7755a0aa572154d     1\n",
      "9c57789a6a587f4efcfb01e36c106014     1\n",
      "9e4c21635f640562de1a6976374fba03     1\n",
      "06c0ea6ee892364d1608ee47aa9f56a0     1\n",
      "84732c5050c01db9b23e19ba39899398     1\n",
      "Name: customer_unique_id, Length: 96096, dtype: int64\n"
     ]
    }
   ],
   "source": [
    "numberOrdersPerCustomer = customers_orders[\"customer_unique_id\"].value_counts()\n",
    "print(numberOrdersPerCustomer)"
   ]
  },
  {
   "cell_type": "markdown",
   "metadata": {},
   "source": [
    "# Visualization - Number of Orders for each customer"
   ]
  },
  {
   "cell_type": "code",
   "execution_count": 54,
   "metadata": {},
   "outputs": [
    {
     "data": {
      "image/png": "[encoded data removed]",
      "text/plain": [
       "<Figure size 640x480 with 1 Axes>"
      ]
     },
     "metadata": {},
     "output_type": "display_data"
    }
   ],
   "source": [
    "plt.style.use('fivethirtyeight')\n",
    "hist = plt.hist(numberOrdersPerCustomer, bins=range(1,21))\n",
    "plt.ylabel(\"Counts\")\n",
    "plt.xlabel('Order Totals for Each Customer')\n",
    "plt.title(\"Order Counts\")\n",
    "plt.show()"
   ]
  },
  {
   "cell_type": "markdown",
   "metadata": {},
   "source": [
    "# Items per Order\n",
    "- finding min max for the Items per Order\n",
    "- mean and median for Items per Order"
   ]
  },
  {
   "cell_type": "code",
   "execution_count": 55,
   "metadata": {},
   "outputs": [
    {
     "name": "stdout",
     "output_type": "stream",
     "text": [
      "1.1417306873695092\n",
      "1.0\n",
      "1     88863\n",
      "2      7516\n",
      "3      1322\n",
      "4       505\n",
      "5       204\n",
      "6       198\n",
      "7        22\n",
      "8         8\n",
      "10        8\n",
      "12        5\n",
      "11        4\n",
      "9         3\n",
      "15        2\n",
      "14        2\n",
      "20        2\n",
      "13        1\n",
      "21        1\n",
      "Name: order_item_id, dtype: int64\n"
     ]
    }
   ],
   "source": [
    "numberItemsPerOrder = (customer_items.groupby(\"order_id\")[\"order_item_id\"].max())\n",
    "temp = (customer_items.groupby(\"order_id\")[\"order_item_id\"].max())\n",
    "\n",
    "print(numberItemsPerOrder.mean())\n",
    "print(numberItemsPerOrder.median())\n",
    "print(numberItemsPerOrder.value_counts())"
   ]
  },
  {
   "cell_type": "markdown",
   "metadata": {},
   "source": [
    "# Visualization - Number of Items per Order"
   ]
  },
  {
   "cell_type": "code",
   "execution_count": 56,
   "metadata": {},
   "outputs": [
    {
     "data": {
      "image/png": "[encoded data removed]",
      "text/plain": [
       "<Figure size 640x480 with 1 Axes>"
      ]
     },
     "metadata": {},
     "output_type": "display_data"
    }
   ],
   "source": [
    "plt.style.use('fivethirtyeight')\n",
    "hist = plt.hist(numberItemsPerOrder, bins=range(1,25))\n",
    "plt.ylabel(\"Counts\")\n",
    "plt.xlabel('Number of Items Per Order')\n",
    "plt.title(\"Frequency of Order Sizes\")\n",
    "plt.show()"
   ]
  },
  {
   "cell_type": "markdown",
   "metadata": {},
   "source": [
    "## Products\n",
    "products = pd.read_csv('data/olist_products_dataset.csv')\n",
    "product_category = pd.read_csv('data/product_category_name_translation.csv')"
   ]
  }
 ],
 "metadata": {
  "kernelspec": {
   "display_name": "Python 3.9.7 ('iml2')",
   "language": "python",
   "name": "python3"
  },
  "language_info": {
   "codemirror_mode": {
    "name": "ipython",
    "version": 3
   },
   "file_extension": ".py",
   "mimetype": "text/x-python",
   "name": "python",
   "nbconvert_exporter": "python",
   "pygments_lexer": "ipython3",
   "version": "3.9.7"
  },
  "orig_nbformat": 4,
  "vscode": {
   "interpreter": {
    "hash": "268be95e8a8fddf21643376ad99d8220c09748104118877e9629e3819f07beb1"
   }
  }
 },
 "nbformat": 4,
 "nbformat_minor": 2
}
