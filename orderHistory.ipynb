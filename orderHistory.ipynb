{
 "cells": [
  {
   "cell_type": "markdown",
   "metadata": {},
   "source": [
    "## Order History"
   ]
  },
  {
   "cell_type": "code",
   "execution_count": 2,
   "metadata": {},
   "outputs": [],
   "source": [
    "## import data files\n",
    "import pandas as pd\n",
    "customers = pd.read_csv('data/olist_customers_dataset.csv')\n",
    "orders = pd.read_csv('data/olist_orders_dataset.csv')\n",
    "order_items = pd.read_csv('data/olist_order_items_dataset.csv')"
   ]
  },
  {
   "cell_type": "code",
   "execution_count": 3,
   "metadata": {},
   "outputs": [],
   "source": [
    "# join data files\n",
    "customers_orders = pd.merge(customers, orders, on='customer_id',how='outer')\n",
    "customer_items = pd.merge(customers_orders, order_items, on='order_id', how='outer')"
   ]
  },
  {
   "cell_type": "code",
   "execution_count": 4,
   "metadata": {},
   "outputs": [],
   "source": [
    "def genOrderHistory(unique_customer_id):\n",
    "    unique_orders = customer_items[customer_items['customer_unique_id']==unique_customer_id]\n",
    "    col_names = ['customer_unique_id','customer_id','order_id','order_purchase_timestamp','order_item_id','product_id','price']\n",
    "    return unique_orders.loc[:,col_names]"
   ]
  },
  {
   "cell_type": "code",
   "execution_count": 5,
   "metadata": {},
   "outputs": [
    {
     "data": {
      "text/plain": "                     customer_unique_id                       customer_id  \\\n7976   1b6c7548a2a1f9037c1fd3ddfed95f33  53e16f83735cfe02bf83ef6481ca241e   \n13881  1b6c7548a2a1f9037c1fd3ddfed95f33  95b9cacc4bc81c3a0a33967bcde6fcd8   \n13882  1b6c7548a2a1f9037c1fd3ddfed95f33  95b9cacc4bc81c3a0a33967bcde6fcd8   \n19221  1b6c7548a2a1f9037c1fd3ddfed95f33  41a16488effb86580d7a89f8aa19a03b   \n28480  1b6c7548a2a1f9037c1fd3ddfed95f33  fff7466a253c0e59499ea943462c10f9   \n57782  1b6c7548a2a1f9037c1fd3ddfed95f33  c2ff01bd4fa72f9487ee397f6c5989d2   \n57783  1b6c7548a2a1f9037c1fd3ddfed95f33  c2ff01bd4fa72f9487ee397f6c5989d2   \n74376  1b6c7548a2a1f9037c1fd3ddfed95f33  9a4578c9dd9dce6517d583cb5eca0276   \n76039  1b6c7548a2a1f9037c1fd3ddfed95f33  ee5c2e36a79081c2440e61990ec2f3af   \n\n                               order_id order_purchase_timestamp  \\\n7976   a8347ba04591f966205182a1c99c310e      2017-12-04 21:11:15   \n13881  54f334d6a9d60b69dae5409327f73645      2017-11-24 13:01:09   \n13882  54f334d6a9d60b69dae5409327f73645      2017-11-24 13:01:09   \n19221  abbd44be67f3cad08ffac14daf36af60      2017-11-13 16:44:41   \n28480  43f08913407cac4e74a898d968e58c1a      2018-02-14 13:22:12   \n57782  ab6d1b0b8360c208b62852f53726f0e6      2017-12-20 09:56:35   \n57783  ab6d1b0b8360c208b62852f53726f0e6      2017-12-20 09:56:35   \n74376  bba17d97a5a45416d0782d5d07fe740d      2017-12-05 09:13:27   \n76039  75b71f40b3c71469d12c7e4dc2ce0794      2018-01-25 12:47:39   \n\n       order_item_id                        product_id   price  \n7976             1.0  c7646a8d47c6414ce8e5770653f3e8b0   46.00  \n13881            1.0  8f83335d6508c667813ff14dc437bc81  118.00  \n13882            2.0  fbc1488c1a1e72ba175f53ab29a248e8  118.00  \n19221            1.0  9d0aa87e8df1bdbe0f79353520a2d538   34.23  \n28480            1.0  c80525a7dab2df6000ca88a2e7197323  152.99  \n57782            1.0  306599a052830af3cfebe42ee7a79dde   55.00  \n57783            2.0  aefb222adb91095556d8aee8ccd7f97f   69.99  \n74376            1.0  bad02bda4c5cc1c81501022f3b06101c   46.00  \n76039            1.0  0ec96e6d31a1493b0475805c9ae1a0a2  169.00  ",
      "text/html": "<div>\n<style scoped>\n    .dataframe tbody tr th:only-of-type {\n        vertical-align: middle;\n    }\n\n    .dataframe tbody tr th {\n        vertical-align: top;\n    }\n\n    .dataframe thead th {\n        text-align: right;\n    }\n</style>\n<table border=\"1\" class=\"dataframe\">\n  <thead>\n    <tr style=\"text-align: right;\">\n      <th></th>\n      <th>customer_unique_id</th>\n      <th>customer_id</th>\n      <th>order_id</th>\n      <th>order_purchase_timestamp</th>\n      <th>order_item_id</th>\n      <th>product_id</th>\n      <th>price</th>\n    </tr>\n  </thead>\n  <tbody>\n    <tr>\n      <th>7976</th>\n      <td>1b6c7548a2a1f9037c1fd3ddfed95f33</td>\n      <td>53e16f83735cfe02bf83ef6481ca241e</td>\n      <td>a8347ba04591f966205182a1c99c310e</td>\n      <td>2017-12-04 21:11:15</td>\n      <td>1.0</td>\n      <td>c7646a8d47c6414ce8e5770653f3e8b0</td>\n      <td>46.00</td>\n    </tr>\n    <tr>\n      <th>13881</th>\n      <td>1b6c7548a2a1f9037c1fd3ddfed95f33</td>\n      <td>95b9cacc4bc81c3a0a33967bcde6fcd8</td>\n      <td>54f334d6a9d60b69dae5409327f73645</td>\n      <td>2017-11-24 13:01:09</td>\n      <td>1.0</td>\n      <td>8f83335d6508c667813ff14dc437bc81</td>\n      <td>118.00</td>\n    </tr>\n    <tr>\n      <th>13882</th>\n      <td>1b6c7548a2a1f9037c1fd3ddfed95f33</td>\n      <td>95b9cacc4bc81c3a0a33967bcde6fcd8</td>\n      <td>54f334d6a9d60b69dae5409327f73645</td>\n      <td>2017-11-24 13:01:09</td>\n      <td>2.0</td>\n      <td>fbc1488c1a1e72ba175f53ab29a248e8</td>\n      <td>118.00</td>\n    </tr>\n    <tr>\n      <th>19221</th>\n      <td>1b6c7548a2a1f9037c1fd3ddfed95f33</td>\n      <td>41a16488effb86580d7a89f8aa19a03b</td>\n      <td>abbd44be67f3cad08ffac14daf36af60</td>\n      <td>2017-11-13 16:44:41</td>\n      <td>1.0</td>\n      <td>9d0aa87e8df1bdbe0f79353520a2d538</td>\n      <td>34.23</td>\n    </tr>\n    <tr>\n      <th>28480</th>\n      <td>1b6c7548a2a1f9037c1fd3ddfed95f33</td>\n      <td>fff7466a253c0e59499ea943462c10f9</td>\n      <td>43f08913407cac4e74a898d968e58c1a</td>\n      <td>2018-02-14 13:22:12</td>\n      <td>1.0</td>\n      <td>c80525a7dab2df6000ca88a2e7197323</td>\n      <td>152.99</td>\n    </tr>\n    <tr>\n      <th>57782</th>\n      <td>1b6c7548a2a1f9037c1fd3ddfed95f33</td>\n      <td>c2ff01bd4fa72f9487ee397f6c5989d2</td>\n      <td>ab6d1b0b8360c208b62852f53726f0e6</td>\n      <td>2017-12-20 09:56:35</td>\n      <td>1.0</td>\n      <td>306599a052830af3cfebe42ee7a79dde</td>\n      <td>55.00</td>\n    </tr>\n    <tr>\n      <th>57783</th>\n      <td>1b6c7548a2a1f9037c1fd3ddfed95f33</td>\n      <td>c2ff01bd4fa72f9487ee397f6c5989d2</td>\n      <td>ab6d1b0b8360c208b62852f53726f0e6</td>\n      <td>2017-12-20 09:56:35</td>\n      <td>2.0</td>\n      <td>aefb222adb91095556d8aee8ccd7f97f</td>\n      <td>69.99</td>\n    </tr>\n    <tr>\n      <th>74376</th>\n      <td>1b6c7548a2a1f9037c1fd3ddfed95f33</td>\n      <td>9a4578c9dd9dce6517d583cb5eca0276</td>\n      <td>bba17d97a5a45416d0782d5d07fe740d</td>\n      <td>2017-12-05 09:13:27</td>\n      <td>1.0</td>\n      <td>bad02bda4c5cc1c81501022f3b06101c</td>\n      <td>46.00</td>\n    </tr>\n    <tr>\n      <th>76039</th>\n      <td>1b6c7548a2a1f9037c1fd3ddfed95f33</td>\n      <td>ee5c2e36a79081c2440e61990ec2f3af</td>\n      <td>75b71f40b3c71469d12c7e4dc2ce0794</td>\n      <td>2018-01-25 12:47:39</td>\n      <td>1.0</td>\n      <td>0ec96e6d31a1493b0475805c9ae1a0a2</td>\n      <td>169.00</td>\n    </tr>\n  </tbody>\n</table>\n</div>"
     },
     "execution_count": 5,
     "metadata": {},
     "output_type": "execute_result"
    }
   ],
   "source": [
    "top_10_cust = customers_orders['customer_unique_id'].value_counts()[0:10].index\n",
    "genOrderHistory(top_10_cust[2])"
   ]
  },
  {
   "cell_type": "code",
   "execution_count": 6,
   "outputs": [
    {
     "name": "stdout",
     "output_type": "stream",
     "text": [
      "1000\n",
      "2000\n",
      "3000\n"
     ]
    },
    {
     "ename": "KeyboardInterrupt",
     "evalue": "",
     "output_type": "error",
     "traceback": [
      "\u001B[0;31m---------------------------------------------------------------------------\u001B[0m",
      "\u001B[0;31mKeyboardInterrupt\u001B[0m                         Traceback (most recent call last)",
      "Input \u001B[0;32mIn [6]\u001B[0m, in \u001B[0;36m<cell line: 6>\u001B[0;34m()\u001B[0m\n\u001B[1;32m      8\u001B[0m     \u001B[38;5;28mprint\u001B[39m(count)\n\u001B[1;32m      9\u001B[0m customerVectors[uniqueCustomer] \u001B[38;5;241m=\u001B[39m {}\n\u001B[0;32m---> 10\u001B[0m \u001B[38;5;28;01mfor\u001B[39;00m product \u001B[38;5;129;01min\u001B[39;00m \u001B[43mgenOrderHistory\u001B[49m\u001B[43m(\u001B[49m\u001B[43muniqueCustomer\u001B[49m\u001B[43m)\u001B[49m[\u001B[38;5;124m'\u001B[39m\u001B[38;5;124mproduct_id\u001B[39m\u001B[38;5;124m'\u001B[39m]:\n\u001B[1;32m     11\u001B[0m     \u001B[38;5;28;01mif\u001B[39;00m product \u001B[38;5;129;01mnot\u001B[39;00m \u001B[38;5;129;01min\u001B[39;00m customerVectors[uniqueCustomer]:\n\u001B[1;32m     12\u001B[0m         customerVectors[uniqueCustomer][product] \u001B[38;5;241m=\u001B[39m \u001B[38;5;241m1\u001B[39m\n",
      "Input \u001B[0;32mIn [4]\u001B[0m, in \u001B[0;36mgenOrderHistory\u001B[0;34m(unique_customer_id)\u001B[0m\n\u001B[1;32m      1\u001B[0m \u001B[38;5;28;01mdef\u001B[39;00m \u001B[38;5;21mgenOrderHistory\u001B[39m(unique_customer_id):\n\u001B[0;32m----> 2\u001B[0m     unique_orders \u001B[38;5;241m=\u001B[39m customer_items[\u001B[43mcustomer_items\u001B[49m\u001B[43m[\u001B[49m\u001B[38;5;124;43m'\u001B[39;49m\u001B[38;5;124;43mcustomer_unique_id\u001B[39;49m\u001B[38;5;124;43m'\u001B[39;49m\u001B[43m]\u001B[49m\u001B[38;5;241;43m==\u001B[39;49m\u001B[43munique_customer_id\u001B[49m]\n\u001B[1;32m      3\u001B[0m     col_names \u001B[38;5;241m=\u001B[39m [\u001B[38;5;124m'\u001B[39m\u001B[38;5;124mcustomer_unique_id\u001B[39m\u001B[38;5;124m'\u001B[39m,\u001B[38;5;124m'\u001B[39m\u001B[38;5;124mcustomer_id\u001B[39m\u001B[38;5;124m'\u001B[39m,\u001B[38;5;124m'\u001B[39m\u001B[38;5;124morder_id\u001B[39m\u001B[38;5;124m'\u001B[39m,\u001B[38;5;124m'\u001B[39m\u001B[38;5;124morder_purchase_timestamp\u001B[39m\u001B[38;5;124m'\u001B[39m,\u001B[38;5;124m'\u001B[39m\u001B[38;5;124morder_item_id\u001B[39m\u001B[38;5;124m'\u001B[39m,\u001B[38;5;124m'\u001B[39m\u001B[38;5;124mproduct_id\u001B[39m\u001B[38;5;124m'\u001B[39m,\u001B[38;5;124m'\u001B[39m\u001B[38;5;124mprice\u001B[39m\u001B[38;5;124m'\u001B[39m]\n\u001B[1;32m      4\u001B[0m     \u001B[38;5;28;01mreturn\u001B[39;00m unique_orders\u001B[38;5;241m.\u001B[39mloc[:,col_names]\n",
      "File \u001B[0;32m/opt/homebrew/anaconda3/lib/python3.9/site-packages/pandas/core/ops/common.py:70\u001B[0m, in \u001B[0;36m_unpack_zerodim_and_defer.<locals>.new_method\u001B[0;34m(self, other)\u001B[0m\n\u001B[1;32m     66\u001B[0m             \u001B[38;5;28;01mreturn\u001B[39;00m \u001B[38;5;28mNotImplemented\u001B[39m\n\u001B[1;32m     68\u001B[0m other \u001B[38;5;241m=\u001B[39m item_from_zerodim(other)\n\u001B[0;32m---> 70\u001B[0m \u001B[38;5;28;01mreturn\u001B[39;00m \u001B[43mmethod\u001B[49m\u001B[43m(\u001B[49m\u001B[38;5;28;43mself\u001B[39;49m\u001B[43m,\u001B[49m\u001B[43m \u001B[49m\u001B[43mother\u001B[49m\u001B[43m)\u001B[49m\n",
      "File \u001B[0;32m/opt/homebrew/anaconda3/lib/python3.9/site-packages/pandas/core/arraylike.py:40\u001B[0m, in \u001B[0;36mOpsMixin.__eq__\u001B[0;34m(self, other)\u001B[0m\n\u001B[1;32m     38\u001B[0m \u001B[38;5;129m@unpack_zerodim_and_defer\u001B[39m(\u001B[38;5;124m\"\u001B[39m\u001B[38;5;124m__eq__\u001B[39m\u001B[38;5;124m\"\u001B[39m)\n\u001B[1;32m     39\u001B[0m \u001B[38;5;28;01mdef\u001B[39;00m \u001B[38;5;21m__eq__\u001B[39m(\u001B[38;5;28mself\u001B[39m, other):\n\u001B[0;32m---> 40\u001B[0m     \u001B[38;5;28;01mreturn\u001B[39;00m \u001B[38;5;28;43mself\u001B[39;49m\u001B[38;5;241;43m.\u001B[39;49m\u001B[43m_cmp_method\u001B[49m\u001B[43m(\u001B[49m\u001B[43mother\u001B[49m\u001B[43m,\u001B[49m\u001B[43m \u001B[49m\u001B[43moperator\u001B[49m\u001B[38;5;241;43m.\u001B[39;49m\u001B[43meq\u001B[49m\u001B[43m)\u001B[49m\n",
      "File \u001B[0;32m/opt/homebrew/anaconda3/lib/python3.9/site-packages/pandas/core/series.py:5623\u001B[0m, in \u001B[0;36mSeries._cmp_method\u001B[0;34m(self, other, op)\u001B[0m\n\u001B[1;32m   5620\u001B[0m rvalues \u001B[38;5;241m=\u001B[39m extract_array(other, extract_numpy\u001B[38;5;241m=\u001B[39m\u001B[38;5;28;01mTrue\u001B[39;00m, extract_range\u001B[38;5;241m=\u001B[39m\u001B[38;5;28;01mTrue\u001B[39;00m)\n\u001B[1;32m   5622\u001B[0m \u001B[38;5;28;01mwith\u001B[39;00m np\u001B[38;5;241m.\u001B[39merrstate(\u001B[38;5;28mall\u001B[39m\u001B[38;5;241m=\u001B[39m\u001B[38;5;124m\"\u001B[39m\u001B[38;5;124mignore\u001B[39m\u001B[38;5;124m\"\u001B[39m):\n\u001B[0;32m-> 5623\u001B[0m     res_values \u001B[38;5;241m=\u001B[39m \u001B[43mops\u001B[49m\u001B[38;5;241;43m.\u001B[39;49m\u001B[43mcomparison_op\u001B[49m\u001B[43m(\u001B[49m\u001B[43mlvalues\u001B[49m\u001B[43m,\u001B[49m\u001B[43m \u001B[49m\u001B[43mrvalues\u001B[49m\u001B[43m,\u001B[49m\u001B[43m \u001B[49m\u001B[43mop\u001B[49m\u001B[43m)\u001B[49m\n\u001B[1;32m   5625\u001B[0m \u001B[38;5;28;01mreturn\u001B[39;00m \u001B[38;5;28mself\u001B[39m\u001B[38;5;241m.\u001B[39m_construct_result(res_values, name\u001B[38;5;241m=\u001B[39mres_name)\n",
      "File \u001B[0;32m/opt/homebrew/anaconda3/lib/python3.9/site-packages/pandas/core/ops/array_ops.py:283\u001B[0m, in \u001B[0;36mcomparison_op\u001B[0;34m(left, right, op)\u001B[0m\n\u001B[1;32m    280\u001B[0m     \u001B[38;5;28;01mreturn\u001B[39;00m invalid_comparison(lvalues, rvalues, op)\n\u001B[1;32m    282\u001B[0m \u001B[38;5;28;01melif\u001B[39;00m is_object_dtype(lvalues\u001B[38;5;241m.\u001B[39mdtype) \u001B[38;5;129;01mor\u001B[39;00m \u001B[38;5;28misinstance\u001B[39m(rvalues, \u001B[38;5;28mstr\u001B[39m):\n\u001B[0;32m--> 283\u001B[0m     res_values \u001B[38;5;241m=\u001B[39m \u001B[43mcomp_method_OBJECT_ARRAY\u001B[49m\u001B[43m(\u001B[49m\u001B[43mop\u001B[49m\u001B[43m,\u001B[49m\u001B[43m \u001B[49m\u001B[43mlvalues\u001B[49m\u001B[43m,\u001B[49m\u001B[43m \u001B[49m\u001B[43mrvalues\u001B[49m\u001B[43m)\u001B[49m\n\u001B[1;32m    285\u001B[0m \u001B[38;5;28;01melse\u001B[39;00m:\n\u001B[1;32m    286\u001B[0m     res_values \u001B[38;5;241m=\u001B[39m _na_arithmetic_op(lvalues, rvalues, op, is_cmp\u001B[38;5;241m=\u001B[39m\u001B[38;5;28;01mTrue\u001B[39;00m)\n",
      "File \u001B[0;32m/opt/homebrew/anaconda3/lib/python3.9/site-packages/pandas/core/ops/array_ops.py:73\u001B[0m, in \u001B[0;36mcomp_method_OBJECT_ARRAY\u001B[0;34m(op, x, y)\u001B[0m\n\u001B[1;32m     71\u001B[0m     result \u001B[38;5;241m=\u001B[39m libops\u001B[38;5;241m.\u001B[39mvec_compare(x\u001B[38;5;241m.\u001B[39mravel(), y\u001B[38;5;241m.\u001B[39mravel(), op)\n\u001B[1;32m     72\u001B[0m \u001B[38;5;28;01melse\u001B[39;00m:\n\u001B[0;32m---> 73\u001B[0m     result \u001B[38;5;241m=\u001B[39m \u001B[43mlibops\u001B[49m\u001B[38;5;241;43m.\u001B[39;49m\u001B[43mscalar_compare\u001B[49m\u001B[43m(\u001B[49m\u001B[43mx\u001B[49m\u001B[38;5;241;43m.\u001B[39;49m\u001B[43mravel\u001B[49m\u001B[43m(\u001B[49m\u001B[43m)\u001B[49m\u001B[43m,\u001B[49m\u001B[43m \u001B[49m\u001B[43my\u001B[49m\u001B[43m,\u001B[49m\u001B[43m \u001B[49m\u001B[43mop\u001B[49m\u001B[43m)\u001B[49m\n\u001B[1;32m     74\u001B[0m \u001B[38;5;28;01mreturn\u001B[39;00m result\u001B[38;5;241m.\u001B[39mreshape(x\u001B[38;5;241m.\u001B[39mshape)\n",
      "\u001B[0;31mKeyboardInterrupt\u001B[0m: "
     ]
    }
   ],
   "source": [
    "uniqueCustomers = customers['customer_unique_id'].unique()\n",
    "\n",
    "customerVectors = {}\n",
    "\n",
    "count = 1\n",
    "for uniqueCustomer in uniqueCustomers:\n",
    "    if count % 1000 == 0:\n",
    "        print(count)\n",
    "    customerVectors[uniqueCustomer] = {}\n",
    "    for product in genOrderHistory(uniqueCustomer)['product_id']:\n",
    "        if product not in customerVectors[uniqueCustomer]:\n",
    "            customerVectors[uniqueCustomer][product] = 1\n",
    "        else:\n",
    "            customerVectors[uniqueCustomer][product] += 1\n",
    "    count += 1"
   ],
   "metadata": {
    "collapsed": false,
    "pycharm": {
     "name": "#%%\n"
    }
   }
  }
 ],
 "metadata": {
  "kernelspec": {
   "display_name": "Python 3.9.7 ('iml2')",
   "language": "python",
   "name": "python3"
  },
  "language_info": {
   "codemirror_mode": {
    "name": "ipython",
    "version": 3
   },
   "file_extension": ".py",
   "mimetype": "text/x-python",
   "name": "python",
   "nbconvert_exporter": "python",
   "pygments_lexer": "ipython3",
   "version": "3.9.7"
  },
  "orig_nbformat": 4,
  "vscode": {
   "interpreter": {
    "hash": "268be95e8a8fddf21643376ad99d8220c09748104118877e9629e3819f07beb1"
   }
  }
 },
 "nbformat": 4,
 "nbformat_minor": 2
}